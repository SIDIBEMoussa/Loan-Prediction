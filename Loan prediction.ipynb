{
 "cells": [
  {
   "cell_type": "code",
   "execution_count": 1013,
   "id": "4970b7c0",
   "metadata": {},
   "outputs": [],
   "source": [
    "import warnings\n",
    "\n",
    "warnings.filterwarnings(\"ignore\")"
   ]
  },
  {
   "cell_type": "code",
   "execution_count": 1014,
   "id": "283be0e7",
   "metadata": {},
   "outputs": [],
   "source": [
    "import pandas as pd\n",
    "import seaborn as sns\n",
    "import matplotlib.pyplot as plt"
   ]
  },
  {
   "cell_type": "code",
   "execution_count": 1015,
   "id": "ab0fa70d",
   "metadata": {},
   "outputs": [],
   "source": [
    "train_data = pd.read_csv(\"./data/train_ctrUa4K.csv\", index_col=\"Loan_ID\")\n",
    "test_data = pd.read_csv(\"./data/test_lAUu6dG.csv\", index_col=\"Loan_ID\")"
   ]
  },
  {
   "cell_type": "code",
   "execution_count": 1016,
   "id": "0dec03e5",
   "metadata": {},
   "outputs": [
    {
     "data": {
      "text/html": [
       "<div>\n",
       "<style scoped>\n",
       "    .dataframe tbody tr th:only-of-type {\n",
       "        vertical-align: middle;\n",
       "    }\n",
       "\n",
       "    .dataframe tbody tr th {\n",
       "        vertical-align: top;\n",
       "    }\n",
       "\n",
       "    .dataframe thead th {\n",
       "        text-align: right;\n",
       "    }\n",
       "</style>\n",
       "<table border=\"1\" class=\"dataframe\">\n",
       "  <thead>\n",
       "    <tr style=\"text-align: right;\">\n",
       "      <th></th>\n",
       "      <th>Gender</th>\n",
       "      <th>Married</th>\n",
       "      <th>Dependents</th>\n",
       "      <th>Education</th>\n",
       "      <th>Self_Employed</th>\n",
       "      <th>ApplicantIncome</th>\n",
       "      <th>CoapplicantIncome</th>\n",
       "      <th>LoanAmount</th>\n",
       "      <th>Loan_Amount_Term</th>\n",
       "      <th>Credit_History</th>\n",
       "      <th>Property_Area</th>\n",
       "      <th>Loan_Status</th>\n",
       "    </tr>\n",
       "    <tr>\n",
       "      <th>Loan_ID</th>\n",
       "      <th></th>\n",
       "      <th></th>\n",
       "      <th></th>\n",
       "      <th></th>\n",
       "      <th></th>\n",
       "      <th></th>\n",
       "      <th></th>\n",
       "      <th></th>\n",
       "      <th></th>\n",
       "      <th></th>\n",
       "      <th></th>\n",
       "      <th></th>\n",
       "    </tr>\n",
       "  </thead>\n",
       "  <tbody>\n",
       "    <tr>\n",
       "      <th>LP001002</th>\n",
       "      <td>Male</td>\n",
       "      <td>No</td>\n",
       "      <td>0</td>\n",
       "      <td>Graduate</td>\n",
       "      <td>No</td>\n",
       "      <td>5849</td>\n",
       "      <td>0.0</td>\n",
       "      <td>NaN</td>\n",
       "      <td>360.0</td>\n",
       "      <td>1.0</td>\n",
       "      <td>Urban</td>\n",
       "      <td>Y</td>\n",
       "    </tr>\n",
       "    <tr>\n",
       "      <th>LP001003</th>\n",
       "      <td>Male</td>\n",
       "      <td>Yes</td>\n",
       "      <td>1</td>\n",
       "      <td>Graduate</td>\n",
       "      <td>No</td>\n",
       "      <td>4583</td>\n",
       "      <td>1508.0</td>\n",
       "      <td>128.0</td>\n",
       "      <td>360.0</td>\n",
       "      <td>1.0</td>\n",
       "      <td>Rural</td>\n",
       "      <td>N</td>\n",
       "    </tr>\n",
       "    <tr>\n",
       "      <th>LP001005</th>\n",
       "      <td>Male</td>\n",
       "      <td>Yes</td>\n",
       "      <td>0</td>\n",
       "      <td>Graduate</td>\n",
       "      <td>Yes</td>\n",
       "      <td>3000</td>\n",
       "      <td>0.0</td>\n",
       "      <td>66.0</td>\n",
       "      <td>360.0</td>\n",
       "      <td>1.0</td>\n",
       "      <td>Urban</td>\n",
       "      <td>Y</td>\n",
       "    </tr>\n",
       "    <tr>\n",
       "      <th>LP001006</th>\n",
       "      <td>Male</td>\n",
       "      <td>Yes</td>\n",
       "      <td>0</td>\n",
       "      <td>Not Graduate</td>\n",
       "      <td>No</td>\n",
       "      <td>2583</td>\n",
       "      <td>2358.0</td>\n",
       "      <td>120.0</td>\n",
       "      <td>360.0</td>\n",
       "      <td>1.0</td>\n",
       "      <td>Urban</td>\n",
       "      <td>Y</td>\n",
       "    </tr>\n",
       "    <tr>\n",
       "      <th>LP001008</th>\n",
       "      <td>Male</td>\n",
       "      <td>No</td>\n",
       "      <td>0</td>\n",
       "      <td>Graduate</td>\n",
       "      <td>No</td>\n",
       "      <td>6000</td>\n",
       "      <td>0.0</td>\n",
       "      <td>141.0</td>\n",
       "      <td>360.0</td>\n",
       "      <td>1.0</td>\n",
       "      <td>Urban</td>\n",
       "      <td>Y</td>\n",
       "    </tr>\n",
       "  </tbody>\n",
       "</table>\n",
       "</div>"
      ],
      "text/plain": [
       "         Gender Married Dependents     Education Self_Employed  \\\n",
       "Loan_ID                                                          \n",
       "LP001002   Male      No          0      Graduate            No   \n",
       "LP001003   Male     Yes          1      Graduate            No   \n",
       "LP001005   Male     Yes          0      Graduate           Yes   \n",
       "LP001006   Male     Yes          0  Not Graduate            No   \n",
       "LP001008   Male      No          0      Graduate            No   \n",
       "\n",
       "          ApplicantIncome  CoapplicantIncome  LoanAmount  Loan_Amount_Term  \\\n",
       "Loan_ID                                                                      \n",
       "LP001002             5849                0.0         NaN             360.0   \n",
       "LP001003             4583             1508.0       128.0             360.0   \n",
       "LP001005             3000                0.0        66.0             360.0   \n",
       "LP001006             2583             2358.0       120.0             360.0   \n",
       "LP001008             6000                0.0       141.0             360.0   \n",
       "\n",
       "          Credit_History Property_Area Loan_Status  \n",
       "Loan_ID                                             \n",
       "LP001002             1.0         Urban           Y  \n",
       "LP001003             1.0         Rural           N  \n",
       "LP001005             1.0         Urban           Y  \n",
       "LP001006             1.0         Urban           Y  \n",
       "LP001008             1.0         Urban           Y  "
      ]
     },
     "execution_count": 1016,
     "metadata": {},
     "output_type": "execute_result"
    }
   ],
   "source": [
    "train_data.head()"
   ]
  },
  {
   "cell_type": "code",
   "execution_count": 1017,
   "id": "7e76c062",
   "metadata": {},
   "outputs": [
    {
     "data": {
      "text/plain": [
       "((614, 12), (367, 11))"
      ]
     },
     "execution_count": 1017,
     "metadata": {},
     "output_type": "execute_result"
    }
   ],
   "source": [
    "train_data.shape, test_data.shape"
   ]
  },
  {
   "cell_type": "code",
   "execution_count": 1018,
   "id": "db05b537",
   "metadata": {},
   "outputs": [
    {
     "data": {
      "text/plain": [
       "Gender               13\n",
       "Married               3\n",
       "Dependents           15\n",
       "Education             0\n",
       "Self_Employed        32\n",
       "ApplicantIncome       0\n",
       "CoapplicantIncome     0\n",
       "LoanAmount           22\n",
       "Loan_Amount_Term     14\n",
       "Credit_History       50\n",
       "Property_Area         0\n",
       "Loan_Status           0\n",
       "dtype: int64"
      ]
     },
     "execution_count": 1018,
     "metadata": {},
     "output_type": "execute_result"
    }
   ],
   "source": [
    "train_data.isna().sum()"
   ]
  },
  {
   "cell_type": "code",
   "execution_count": 1019,
   "id": "beccc683",
   "metadata": {},
   "outputs": [],
   "source": [
    "def plot_hist(df, col, size = (14,10)):\n",
    "    \n",
    "    plt.title(\"Distribution according to \"+col+\" values\")\n",
    "    ax = sns.countplot(data = df, x=col, hue = col)\n",
    "    \n",
    "    for p in ax.patches:\n",
    "        \n",
    "        if p.get_height()>0:\n",
    "            ax.annotate(f'\\n{int(p.get_height())}', (p.get_x() + p.get_width() / 2., p.get_height()),\n",
    "                    ha='center', va='bottom', color='black', fontsize=12)\n",
    "\n",
    "    plt.show()"
   ]
  },
  {
   "cell_type": "code",
   "execution_count": 1020,
   "id": "8fe6ccd9",
   "metadata": {},
   "outputs": [
    {
     "data": {
      "image/png": "[encoded data removed]",
      "text/plain": [
       "<Figure size 640x480 with 1 Axes>"
      ]
     },
     "metadata": {},
     "output_type": "display_data"
    }
   ],
   "source": [
    "plot_hist(train_data, \"Gender\")"
   ]
  },
  {
   "cell_type": "code",
   "execution_count": 1021,
   "id": "c33fda51",
   "metadata": {},
   "outputs": [
    {
     "data": {
      "image/png": "[encoded data removed]",
      "text/plain": [
       "<Figure size 640x480 with 1 Axes>"
      ]
     },
     "metadata": {},
     "output_type": "display_data"
    }
   ],
   "source": [
    "plot_hist(train_data, \"Married\")"
   ]
  },
  {
   "cell_type": "code",
   "execution_count": 1022,
   "id": "0b1334f2",
   "metadata": {},
   "outputs": [
    {
     "data": {
      "image/png": "[encoded data removed]",
      "text/plain": [
       "<Figure size 640x480 with 1 Axes>"
      ]
     },
     "metadata": {},
     "output_type": "display_data"
    }
   ],
   "source": [
    "plot_hist(train_data, \"Education\")"
   ]
  },
  {
   "cell_type": "code",
   "execution_count": 1023,
   "id": "88c9ae32",
   "metadata": {},
   "outputs": [
    {
     "data": {
      "image/png": "[encoded data removed]",
      "text/plain": [
       "<Figure size 640x480 with 1 Axes>"
      ]
     },
     "metadata": {},
     "output_type": "display_data"
    }
   ],
   "source": [
    "plot_hist(train_data, \"Dependents\")"
   ]
  },
  {
   "cell_type": "code",
   "execution_count": 1024,
   "id": "90a5b200",
   "metadata": {},
   "outputs": [
    {
     "data": {
      "image/png": "[encoded data removed]",
      "text/plain": [
       "<Figure size 640x480 with 1 Axes>"
      ]
     },
     "metadata": {},
     "output_type": "display_data"
    }
   ],
   "source": [
    "plot_hist(train_data, \"Credit_History\")"
   ]
  },
  {
   "cell_type": "markdown",
   "id": "818f1b74",
   "metadata": {},
   "source": [
    "## Missing values traitement"
   ]
  },
  {
   "cell_type": "code",
   "execution_count": 1025,
   "id": "5af39eed",
   "metadata": {},
   "outputs": [],
   "source": [
    "from sklearn.preprocessing import LabelEncoder\n",
    "from sklearn.linear_model import LogisticRegression\n",
    "from sklearn.ensemble import RandomForestClassifier\n",
    "from sklearn.metrics import classification_report, ConfusionMatrixDisplay\n",
    "from sklearn.model_selection import GridSearchCV, StratifiedKFold, cross_val_score\n",
    "from imblearn.over_sampling import RandomOverSampler, SMOTE"
   ]
  },
  {
   "cell_type": "code",
   "execution_count": 1026,
   "id": "efd37eaa",
   "metadata": {},
   "outputs": [],
   "source": [
    "def select_missing_train_data(df, col_without_nan,col_with_nan):\n",
    "    \n",
    "    col_without_nan.append(col_with_nan)\n",
    "    \n",
    "    return df[col_without_nan]\n",
    "\n",
    "def data_for_missing_model(df, target_index = 0):\n",
    "\n",
    "    col_with_nan = list(train_data.columns[(train_data.isna().sum() != 0).values].values)\n",
    "    col_without_nan = list(df.columns[(df.isna().sum() == 0).values].values)\n",
    "    \n",
    "    Gender_missing_data = select_missing_train_data(df, col_without_nan, col_with_nan[target_index])\n",
    "    \n",
    "    return Gender_missing_data\n",
    "\n",
    "def binary_encoding(y):\n",
    "    label_en = LabelEncoder()\n",
    "    y_en = label_en.fit_transform(y)\n",
    "    return y_en\n",
    "\n",
    "def evaluate_model(model, X_test, y_test):\n",
    "    # On prédit les valeurs de la variable cible pour les données de test\n",
    "    y_pred = model.predict(X_test)\n",
    "\n",
    "    # On calcule la matrice de confusion\n",
    "    ConfusionMatrixDisplay.from_estimator(model, X_test, y_test)\n",
    "\n",
    "    # On calcule le rapport de classification\n",
    "\n",
    "    report = classification_report(y_test, y_pred)\n",
    "    print(report)\n",
    "    return None"
   ]
  },
  {
   "cell_type": "markdown",
   "id": "2513f287",
   "metadata": {},
   "source": [
    "- ## Gender"
   ]
  },
  {
   "cell_type": "code",
   "execution_count": 1027,
   "id": "af58aafc",
   "metadata": {},
   "outputs": [
    {
     "data": {
      "text/html": [
       "<div>\n",
       "<style scoped>\n",
       "    .dataframe tbody tr th:only-of-type {\n",
       "        vertical-align: middle;\n",
       "    }\n",
       "\n",
       "    .dataframe tbody tr th {\n",
       "        vertical-align: top;\n",
       "    }\n",
       "\n",
       "    .dataframe thead th {\n",
       "        text-align: right;\n",
       "    }\n",
       "</style>\n",
       "<table border=\"1\" class=\"dataframe\">\n",
       "  <thead>\n",
       "    <tr style=\"text-align: right;\">\n",
       "      <th></th>\n",
       "      <th>Married</th>\n",
       "      <th>Education</th>\n",
       "      <th>ApplicantIncome</th>\n",
       "      <th>CoapplicantIncome</th>\n",
       "      <th>Property_Area</th>\n",
       "      <th>Married</th>\n",
       "    </tr>\n",
       "    <tr>\n",
       "      <th>Loan_ID</th>\n",
       "      <th></th>\n",
       "      <th></th>\n",
       "      <th></th>\n",
       "      <th></th>\n",
       "      <th></th>\n",
       "      <th></th>\n",
       "    </tr>\n",
       "  </thead>\n",
       "  <tbody>\n",
       "  </tbody>\n",
       "</table>\n",
       "</div>"
      ],
      "text/plain": [
       "Empty DataFrame\n",
       "Columns: [Married, Education, ApplicantIncome, CoapplicantIncome, Property_Area, Married]\n",
       "Index: []"
      ]
     },
     "execution_count": 1027,
     "metadata": {},
     "output_type": "execute_result"
    }
   ],
   "source": [
    "Test_missing_data[Test_missing_data[target_col].isna().iloc[:,0] == True]"
   ]
  },
  {
   "cell_type": "code",
   "execution_count": 1028,
   "id": "5fc29acf",
   "metadata": {},
   "outputs": [],
   "source": [
    "def create_missi_train_test_set(col_missing_data, col):\n",
    "\n",
    "    if col == \"Married\":\n",
    "        \n",
    "        col_missing_data = col_missing_data.iloc[:,1:]\n",
    "    \n",
    "    miss_gender_train_set = col_missing_data[col_missing_data[col].isna()==False]\n",
    "    miss_gender_test_set = col_missing_data[col_missing_data[col].isna()==True]\n",
    "    \n",
    "    return miss_gender_train_set, miss_gender_test_set"
   ]
  },
  {
   "cell_type": "code",
   "execution_count": 1029,
   "id": "13b05be5",
   "metadata": {},
   "outputs": [],
   "source": [
    "def separate_X_to_y_and_encode(miss_gender_train_set, miss_gender_test_set):\n",
    "    \n",
    "    X_miss_gen_train ,y_miss_gen_train = miss_gender_train_set.iloc[:,:-1],miss_gender_train_set.iloc[:,-1]\n",
    "    X_miss_gen_test = miss_gender_test_set.iloc[:,:-1]\n",
    "    \n",
    "    cate_col = X_miss_gen_train.select_dtypes(include=\"object\").columns\n",
    "\n",
    "    X_miss_gen_train_en = X_miss_gen_train.copy()\n",
    "    X_miss_gen_test_en = X_miss_gen_test.copy()\n",
    "\n",
    "\n",
    "    for col in cate_col:\n",
    "        X_miss_gen_train_en[col] = binary_encoding(X_miss_gen_train[col])\n",
    "        X_miss_gen_test_en[col] = binary_encoding(X_miss_gen_test[col])\n",
    "        \n",
    "    y_miss_gen_train_en = binary_encoding(y_miss_gen_train)\n",
    "    \n",
    "    return X_miss_gen_train_en, X_miss_gen_test_en, y_miss_gen_train_en"
   ]
  },
  {
   "cell_type": "code",
   "execution_count": 1030,
   "id": "9a2f2688",
   "metadata": {},
   "outputs": [],
   "source": [
    "def train_model(model, X, y, parameters, grid = False, balance = True):\n",
    "    \n",
    "    \n",
    "    if balance:\n",
    "        # Redressage l'échantillon train par oversampling\n",
    "        oversampler = SMOTE(random_state=42)\n",
    "        X, y = oversampler.fit_resample(X,y)\n",
    "    \n",
    "    model.fit(X, y)\n",
    "    \n",
    "    if grid:\n",
    "        print(\"With gridsearch\")\n",
    "        param_grid = parameters\n",
    "\n",
    "        model = GridSearchCV(estimator=model, param_grid=param_grid, cv=100, scoring='accuracy')\n",
    "        \n",
    "        model.fit(X, y)\n",
    "    \n",
    "    # Afficher les meilleurs paramètres\n",
    "        best_params = model.best_params_\n",
    "        best_score = model.best_score_\n",
    "        print(\"Meilleurs paramètres :\", best_params)# Meilleur paramètres\n",
    "        print(\"Meilleur score : \", best_score) # Meilleur score\n",
    "\n",
    "    return X, y, model"
   ]
  },
  {
   "cell_type": "code",
   "execution_count": 1031,
   "id": "3dd75df8",
   "metadata": {},
   "outputs": [],
   "source": [
    "def miss_value_treatment_pipeline(model, train_data, test_data, parameter , grid = False, balance = False, index_miss_target = 0):\n",
    "    \n",
    "    Gender_missing_data = data_for_missing_model(train_data, target_index = index_miss_target)\n",
    "    Test_missing_data = data_for_missing_model(test_data, target_index = index_miss_target)\n",
    "    target_col = Gender_missing_data.columns[-1]\n",
    "    print(\"Target col : \", target_col)\n",
    "    print(\"===\"*30)\n",
    "    print(\"\\n Treatement of \"+target_col+\" missing values \\n\")\n",
    "    print(\"===\"*30)\n",
    "    \n",
    "    miss_gender_train_set, miss_gender_test_set = create_missi_train_test_set(Gender_missing_data, target_col)\n",
    "    miss_Test_train_set, miss_Test_test_set = create_missi_train_test_set(Test_missing_data, target_col)\n",
    "    \n",
    "    X_miss_gen_train_en, X_miss_gen_test_en, y_miss_gen_train_en = separate_X_to_y_and_encode(miss_gender_train_set,\n",
    "                                                                                              miss_gender_test_set\n",
    "                                                                                              )\n",
    "    XTest_train_en, XTest_test_en, y_Train = separate_X_to_y_and_encode(miss_Test_train_set, \n",
    "                                                                        miss_Test_test_set)\n",
    "    if target_col not in [\"Married\",\"LoanAmount\",\"Loan_Amount_Term\"]:\n",
    "        X_miss_gen_train_en_aug, y_miss_gen_train_en_aug, model_trained = train_model(model, \n",
    "                                                                                      X_miss_gen_train_en,\n",
    "                                                                                      y_miss_gen_train_en, parameter, \n",
    "                                                                                      grid = grid, \n",
    "                                                                                      balance=balance)\n",
    "\n",
    "        evaluate_model(model_trained, X_miss_gen_train_en_aug, y_miss_gen_train_en_aug)\n",
    "    \n",
    "    \n",
    "        #For training data missing value solving\n",
    "        y_predict = model_trained.predict(X_miss_gen_test_en)\n",
    "    \n",
    "        #X_miss_gen_test_en[target_col] = y_predict\n",
    "        #X_miss_gen_train_en[target_col] = y_miss_gen_train_en\n",
    "\n",
    "        #For testing data missing value solving\n",
    "        X_miss_gen_train_en_aug, y_miss_gen_train_en_aug, model_trained = train_model(model,X_miss_gen_train_en,#.drop(columns=[target_col]),\n",
    "                                                                                      y_miss_gen_train_en, parameter, \n",
    "                                                                                      grid = grid, \n",
    "                                                                                      balance=balance)\n",
    "        y_predict_Test = model_trained.predict(XTest_test_en.drop(columns=[\"Married\"]))\n",
    "    \n",
    "    else:\n",
    "        \n",
    "        if target_col == \"Married\":\n",
    "            \n",
    "            X_miss_gen_train_en_aug, y_miss_gen_train_en_aug, model_trained = train_model(model, \n",
    "                                                                                      X_miss_gen_train_en,\n",
    "                                                                                      y_miss_gen_train_en, parameter, \n",
    "                                                                                      grid = grid, \n",
    "                                                                                      balance=balance)\n",
    "    \n",
    "            #For training data missing value solving\n",
    "            y_predict = model_trained.predict(X_miss_gen_test_en)\n",
    "\n",
    "            \n",
    "            y_predict_Test = test_data[test_data[target_col].isna()==True][target_col].values\n",
    "     \n",
    "        if target_col == \"LoanAmount\":\n",
    "            \n",
    "            y_predict_Test = test_data[test_data.isna()[target_col]][target_col]\n",
    "            \n",
    "            #For training data missing value solving\n",
    "            y_predict = train_data[train_data.isna()[target_col]==False][target_col]\n",
    "        \n",
    "        if target_col == \"Loan_Amount_Term\":\n",
    "            \n",
    "            y_predict_Test = test_data[test_data.isna()[target_col]][target_col]\n",
    "            \n",
    "            #For training data missing value solving\n",
    "            y_predict = train_data[train_data.isna()[target_col]==False][target_col]\n",
    "        \n",
    "    XTest_test_en[target_col] = y_predict_Test\n",
    "    XTest_train_en[target_col] = y_Train\n",
    "    \n",
    "    X_miss_gen_test_en[target_col] = y_predict\n",
    "    X_miss_gen_train_en[target_col] = y_miss_gen_train_en\n",
    "    \n",
    "    \n",
    "    df_Train = pd.concat([X_miss_gen_train_en, X_miss_gen_test_en], axis = 0)\n",
    "    \n",
    "    df_Test = pd.concat([XTest_train_en, XTest_test_en], axis = 0)\n",
    "    \n",
    "    df_Train[\"LoanAmount\"] = train_data[\"LoanAmount\"]\n",
    "    df_Test[\"LoanAmount\"] = test_data[\"LoanAmount\"]\n",
    "    \n",
    "    df_Train[\"Loan_Amount_Term\"] = train_data[\"Loan_Amount_Term\"]\n",
    "    df_Test[\"Loan_Amount_Term\"] = test_data[\"Loan_Amount_Term\"]\n",
    "    \n",
    "    return df_Train, df_Test"
   ]
  },
  {
   "cell_type": "code",
   "execution_count": 1032,
   "id": "142a6774",
   "metadata": {},
   "outputs": [],
   "source": [
    "lr_parameter = {\n",
    "                'C': [0.0001, 0.001, 0.01, 0.1, 1, 10, 100],\n",
    "                'penalty': ['l1', 'l2'],\n",
    "                'max_iter': [100, 500, 1000, 10000]\n",
    "                }\n",
    "rf_parameter = {\n",
    "                'n_estimators': [10, 20, 50, 100],\n",
    "                'max_depth': [None, 1, 2, 3],\n",
    "                'min_samples_split': [2, 5, 10, 50, 100],\n",
    "                'min_samples_leaf': [1, 2, 4]\n",
    "                }"
   ]
  },
  {
   "cell_type": "code",
   "execution_count": 1033,
   "id": "848aa5de",
   "metadata": {},
   "outputs": [],
   "source": [
    "rf_model = RandomForestClassifier(random_state=42)\n",
    "lr_model = LogisticRegression()"
   ]
  },
  {
   "cell_type": "markdown",
   "id": "8cac185a",
   "metadata": {},
   "source": [
    "train_data_gen, Test_data_en = miss_value_treatment_pipeline(model,\n",
    "                                                             train_data.drop(columns=[\"Loan_Status\"]),\n",
    "                                                             test_data,\n",
    "                                                             parameter,\n",
    "                                                             grid = False,\n",
    "                                                             balance = False,\n",
    "                                                             index_miss_target = 0\n",
    "                                                            )"
   ]
  },
  {
   "cell_type": "code",
   "execution_count": 1034,
   "id": "39d959d0",
   "metadata": {},
   "outputs": [
    {
     "name": "stdout",
     "output_type": "stream",
     "text": [
      "Target col :  Credit_History\n",
      "==========================================================================================\n",
      "\n",
      " Treatement of Credit_History missing values \n",
      "\n",
      "==========================================================================================\n",
      "              precision    recall  f1-score   support\n",
      "\n",
      "           0       1.00      1.00      1.00       475\n",
      "           1       1.00      1.00      1.00       475\n",
      "\n",
      "    accuracy                           1.00       950\n",
      "   macro avg       1.00      1.00      1.00       950\n",
      "weighted avg       1.00      1.00      1.00       950\n",
      "\n"
     ]
    },
    {
     "data": {
      "image/png": "[encoded data removed]",
      "text/plain": [
       "<Figure size 640x480 with 2 Axes>"
      ]
     },
     "metadata": {},
     "output_type": "display_data"
    }
   ],
   "source": [
    "train_data_gen = miss_value_treatment_pipeline(rf_model, \n",
    "                                               train_data.drop(columns=[\"Loan_Status\"]), \n",
    "                                               test_data, \n",
    "                                               rf_parameter, \n",
    "                                               grid = False, \n",
    "                                               balance = True, \n",
    "                                               index_miss_target = 6)"
   ]
  },
  {
   "cell_type": "code",
   "execution_count": 1035,
   "id": "e5c17464",
   "metadata": {},
   "outputs": [],
   "source": [
    "grid = False \n",
    "balance = True \n",
    "index_miss_target = 2\n",
    "model = rf_model\n",
    "parameter = rf_parameter"
   ]
  },
  {
   "cell_type": "code",
   "execution_count": 1036,
   "id": "38ce57a4",
   "metadata": {},
   "outputs": [
    {
     "name": "stdout",
     "output_type": "stream",
     "text": [
      "Target col :  Gender\n",
      "==========================================================================================\n",
      "\n",
      " Treatement of Gender missing values \n",
      "\n",
      "==========================================================================================\n",
      "              precision    recall  f1-score   support\n",
      "\n",
      "           0       0.99      0.99      0.99       489\n",
      "           1       0.99      0.99      0.99       489\n",
      "\n",
      "    accuracy                           0.99       978\n",
      "   macro avg       0.99      0.99      0.99       978\n",
      "weighted avg       0.99      0.99      0.99       978\n",
      "\n",
      "Target col :  Married\n",
      "==========================================================================================\n",
      "\n",
      " Treatement of Married missing values \n",
      "\n",
      "==========================================================================================\n",
      "Target col :  Dependents\n",
      "==========================================================================================\n",
      "\n",
      " Treatement of Dependents missing values \n",
      "\n",
      "==========================================================================================\n",
      "              precision    recall  f1-score   support\n",
      "\n",
      "           0       1.00      0.99      0.99       345\n",
      "           1       0.99      0.99      0.99       345\n",
      "           2       0.99      0.99      0.99       345\n",
      "           3       1.00      1.00      1.00       345\n",
      "\n",
      "    accuracy                           0.99      1380\n",
      "   macro avg       0.99      0.99      0.99      1380\n",
      "weighted avg       0.99      0.99      0.99      1380\n",
      "\n",
      "Target col :  Self_Employed\n",
      "==========================================================================================\n",
      "\n",
      " Treatement of Self_Employed missing values \n",
      "\n",
      "==========================================================================================\n",
      "              precision    recall  f1-score   support\n",
      "\n",
      "           0       0.99      1.00      0.99       500\n",
      "           1       1.00      0.99      0.99       500\n",
      "\n",
      "    accuracy                           0.99      1000\n",
      "   macro avg       0.99      0.99      0.99      1000\n",
      "weighted avg       0.99      0.99      0.99      1000\n",
      "\n",
      "Target col :  LoanAmount\n",
      "==========================================================================================\n",
      "\n",
      " Treatement of LoanAmount missing values \n",
      "\n",
      "==========================================================================================\n",
      "Target col :  Loan_Amount_Term\n",
      "==========================================================================================\n",
      "\n",
      " Treatement of Loan_Amount_Term missing values \n",
      "\n",
      "==========================================================================================\n",
      "Target col :  Credit_History\n",
      "==========================================================================================\n",
      "\n",
      " Treatement of Credit_History missing values \n",
      "\n",
      "==========================================================================================\n",
      "              precision    recall  f1-score   support\n",
      "\n",
      "           0       1.00      1.00      1.00       475\n",
      "           1       1.00      1.00      1.00       475\n",
      "\n",
      "    accuracy                           1.00       950\n",
      "   macro avg       1.00      1.00      1.00       950\n",
      "weighted avg       1.00      1.00      1.00       950\n",
      "\n"
     ]
    },
    {
     "data": {
      "image/png": "[encoded data removed]",
      "text/plain": [
       "<Figure size 640x480 with 2 Axes>"
      ]
     },
     "metadata": {},
     "output_type": "display_data"
    },
    {
     "data": {
      "image/png": "[encoded data removed]",
      "text/plain": [
       "<Figure size 640x480 with 2 Axes>"
      ]
     },
     "metadata": {},
     "output_type": "display_data"
    },
    {
     "data": {
      "image/png": "[encoded data removed]",
      "text/plain": [
       "<Figure size 640x480 with 2 Axes>"
      ]
     },
     "metadata": {},
     "output_type": "display_data"
    },
    {
     "data": {
      "image/png": "[encoded data removed]",
      "text/plain": [
       "<Figure size 640x480 with 2 Axes>"
      ]
     },
     "metadata": {},
     "output_type": "display_data"
    }
   ],
   "source": [
    "cate_col_index = range(sum(train_data.isna().sum().values >0))\n",
    "cate_col_index = [0,1,2,3,4,5,6]\n",
    "\n",
    "def create_df(train_data, cate_col_index):\n",
    "\n",
    "    df_tr = []\n",
    "    df_te = []\n",
    "\n",
    "    for col_index in cate_col_index:\n",
    "\n",
    "        temp_train, temp_test = miss_value_treatment_pipeline(rf_model, \n",
    "                                                   train_data.drop(columns=[\"Loan_Status\"]),\n",
    "                                                   test_data, \n",
    "                                                   rf_parameter, \n",
    "                                                   grid, \n",
    "                                                   balance, \n",
    "                                                   index_miss_target = col_index)\n",
    "\n",
    "        df_tr.append(temp_train)\n",
    "        df_te.append(temp_test)\n",
    "\n",
    "    \n",
    "    train_df = pd.concat( df_tr, axis = 1)\n",
    "    test_df = pd.concat( df_te, axis = 1)\n",
    "    \n",
    "    return train_df,test_df\n",
    "\n",
    "train_df, test_df = create_df(train_data, cate_col_index)"
   ]
  },
  {
   "cell_type": "code",
   "execution_count": 1037,
   "id": "a800d12d",
   "metadata": {},
   "outputs": [
    {
     "data": {
      "text/html": [
       "<div>\n",
       "<style scoped>\n",
       "    .dataframe tbody tr th:only-of-type {\n",
       "        vertical-align: middle;\n",
       "    }\n",
       "\n",
       "    .dataframe tbody tr th {\n",
       "        vertical-align: top;\n",
       "    }\n",
       "\n",
       "    .dataframe thead th {\n",
       "        text-align: right;\n",
       "    }\n",
       "</style>\n",
       "<table border=\"1\" class=\"dataframe\">\n",
       "  <thead>\n",
       "    <tr style=\"text-align: right;\">\n",
       "      <th></th>\n",
       "      <th>Education</th>\n",
       "      <th>ApplicantIncome</th>\n",
       "      <th>CoapplicantIncome</th>\n",
       "      <th>Property_Area</th>\n",
       "      <th>Gender</th>\n",
       "      <th>LoanAmount</th>\n",
       "      <th>Loan_Amount_Term</th>\n",
       "      <th>ApplicantIncome</th>\n",
       "      <th>CoapplicantIncome</th>\n",
       "      <th>Property_Area</th>\n",
       "      <th>...</th>\n",
       "      <th>Property_Area</th>\n",
       "      <th>Loan_Amount_Term</th>\n",
       "      <th>LoanAmount</th>\n",
       "      <th>Education</th>\n",
       "      <th>ApplicantIncome</th>\n",
       "      <th>CoapplicantIncome</th>\n",
       "      <th>Property_Area</th>\n",
       "      <th>Credit_History</th>\n",
       "      <th>LoanAmount</th>\n",
       "      <th>Loan_Amount_Term</th>\n",
       "    </tr>\n",
       "    <tr>\n",
       "      <th>Loan_ID</th>\n",
       "      <th></th>\n",
       "      <th></th>\n",
       "      <th></th>\n",
       "      <th></th>\n",
       "      <th></th>\n",
       "      <th></th>\n",
       "      <th></th>\n",
       "      <th></th>\n",
       "      <th></th>\n",
       "      <th></th>\n",
       "      <th></th>\n",
       "      <th></th>\n",
       "      <th></th>\n",
       "      <th></th>\n",
       "      <th></th>\n",
       "      <th></th>\n",
       "      <th></th>\n",
       "      <th></th>\n",
       "      <th></th>\n",
       "      <th></th>\n",
       "      <th></th>\n",
       "    </tr>\n",
       "  </thead>\n",
       "  <tbody>\n",
       "    <tr>\n",
       "      <th>LP001002</th>\n",
       "      <td>0</td>\n",
       "      <td>5849</td>\n",
       "      <td>0.0</td>\n",
       "      <td>2</td>\n",
       "      <td>1</td>\n",
       "      <td>NaN</td>\n",
       "      <td>360.0</td>\n",
       "      <td>5849</td>\n",
       "      <td>0.0</td>\n",
       "      <td>2</td>\n",
       "      <td>...</td>\n",
       "      <td>2</td>\n",
       "      <td>360.0</td>\n",
       "      <td>NaN</td>\n",
       "      <td>0</td>\n",
       "      <td>5849</td>\n",
       "      <td>0.0</td>\n",
       "      <td>2</td>\n",
       "      <td>1</td>\n",
       "      <td>NaN</td>\n",
       "      <td>360.0</td>\n",
       "    </tr>\n",
       "    <tr>\n",
       "      <th>LP001003</th>\n",
       "      <td>0</td>\n",
       "      <td>4583</td>\n",
       "      <td>1508.0</td>\n",
       "      <td>0</td>\n",
       "      <td>1</td>\n",
       "      <td>128.0</td>\n",
       "      <td>360.0</td>\n",
       "      <td>4583</td>\n",
       "      <td>1508.0</td>\n",
       "      <td>0</td>\n",
       "      <td>...</td>\n",
       "      <td>0</td>\n",
       "      <td>360.0</td>\n",
       "      <td>128.0</td>\n",
       "      <td>0</td>\n",
       "      <td>4583</td>\n",
       "      <td>1508.0</td>\n",
       "      <td>0</td>\n",
       "      <td>1</td>\n",
       "      <td>128.0</td>\n",
       "      <td>360.0</td>\n",
       "    </tr>\n",
       "  </tbody>\n",
       "</table>\n",
       "<p>2 rows × 46 columns</p>\n",
       "</div>"
      ],
      "text/plain": [
       "          Education  ApplicantIncome  CoapplicantIncome  Property_Area  \\\n",
       "Loan_ID                                                                  \n",
       "LP001002          0             5849                0.0              2   \n",
       "LP001003          0             4583             1508.0              0   \n",
       "\n",
       "          Gender  LoanAmount  Loan_Amount_Term  ApplicantIncome  \\\n",
       "Loan_ID                                                           \n",
       "LP001002       1         NaN             360.0             5849   \n",
       "LP001003       1       128.0             360.0             4583   \n",
       "\n",
       "          CoapplicantIncome  Property_Area  ...  Property_Area  \\\n",
       "Loan_ID                                     ...                  \n",
       "LP001002                0.0              2  ...              2   \n",
       "LP001003             1508.0              0  ...              0   \n",
       "\n",
       "          Loan_Amount_Term  LoanAmount  Education  ApplicantIncome  \\\n",
       "Loan_ID                                                              \n",
       "LP001002             360.0         NaN          0             5849   \n",
       "LP001003             360.0       128.0          0             4583   \n",
       "\n",
       "          CoapplicantIncome  Property_Area  Credit_History  LoanAmount  \\\n",
       "Loan_ID                                                                  \n",
       "LP001002                0.0              2               1         NaN   \n",
       "LP001003             1508.0              0               1       128.0   \n",
       "\n",
       "          Loan_Amount_Term  \n",
       "Loan_ID                     \n",
       "LP001002             360.0  \n",
       "LP001003             360.0  \n",
       "\n",
       "[2 rows x 46 columns]"
      ]
     },
     "execution_count": 1037,
     "metadata": {},
     "output_type": "execute_result"
    }
   ],
   "source": [
    "train_df.head(2)"
   ]
  },
  {
   "cell_type": "code",
   "execution_count": 1038,
   "id": "ff1ac4e2",
   "metadata": {},
   "outputs": [
    {
     "data": {
      "text/html": [
       "<div>\n",
       "<style scoped>\n",
       "    .dataframe tbody tr th:only-of-type {\n",
       "        vertical-align: middle;\n",
       "    }\n",
       "\n",
       "    .dataframe tbody tr th {\n",
       "        vertical-align: top;\n",
       "    }\n",
       "\n",
       "    .dataframe thead th {\n",
       "        text-align: right;\n",
       "    }\n",
       "</style>\n",
       "<table border=\"1\" class=\"dataframe\">\n",
       "  <thead>\n",
       "    <tr style=\"text-align: right;\">\n",
       "      <th></th>\n",
       "      <th>Married</th>\n",
       "      <th>Education</th>\n",
       "      <th>ApplicantIncome</th>\n",
       "      <th>CoapplicantIncome</th>\n",
       "      <th>Property_Area</th>\n",
       "      <th>Gender</th>\n",
       "      <th>LoanAmount</th>\n",
       "      <th>Loan_Amount_Term</th>\n",
       "      <th>Education</th>\n",
       "      <th>ApplicantIncome</th>\n",
       "      <th>...</th>\n",
       "      <th>Loan_Amount_Term</th>\n",
       "      <th>LoanAmount</th>\n",
       "      <th>Married</th>\n",
       "      <th>Education</th>\n",
       "      <th>ApplicantIncome</th>\n",
       "      <th>CoapplicantIncome</th>\n",
       "      <th>Property_Area</th>\n",
       "      <th>Credit_History</th>\n",
       "      <th>LoanAmount</th>\n",
       "      <th>Loan_Amount_Term</th>\n",
       "    </tr>\n",
       "    <tr>\n",
       "      <th>Loan_ID</th>\n",
       "      <th></th>\n",
       "      <th></th>\n",
       "      <th></th>\n",
       "      <th></th>\n",
       "      <th></th>\n",
       "      <th></th>\n",
       "      <th></th>\n",
       "      <th></th>\n",
       "      <th></th>\n",
       "      <th></th>\n",
       "      <th></th>\n",
       "      <th></th>\n",
       "      <th></th>\n",
       "      <th></th>\n",
       "      <th></th>\n",
       "      <th></th>\n",
       "      <th></th>\n",
       "      <th></th>\n",
       "      <th></th>\n",
       "      <th></th>\n",
       "      <th></th>\n",
       "    </tr>\n",
       "  </thead>\n",
       "  <tbody>\n",
       "    <tr>\n",
       "      <th>LP001015</th>\n",
       "      <td>1</td>\n",
       "      <td>0</td>\n",
       "      <td>5720</td>\n",
       "      <td>0</td>\n",
       "      <td>2</td>\n",
       "      <td>1</td>\n",
       "      <td>110.0</td>\n",
       "      <td>360.0</td>\n",
       "      <td>0.0</td>\n",
       "      <td>5720</td>\n",
       "      <td>...</td>\n",
       "      <td>360.0</td>\n",
       "      <td>110.0</td>\n",
       "      <td>1</td>\n",
       "      <td>0</td>\n",
       "      <td>5720</td>\n",
       "      <td>0</td>\n",
       "      <td>2</td>\n",
       "      <td>1</td>\n",
       "      <td>110.0</td>\n",
       "      <td>360.0</td>\n",
       "    </tr>\n",
       "    <tr>\n",
       "      <th>LP001022</th>\n",
       "      <td>1</td>\n",
       "      <td>0</td>\n",
       "      <td>3076</td>\n",
       "      <td>1500</td>\n",
       "      <td>2</td>\n",
       "      <td>1</td>\n",
       "      <td>126.0</td>\n",
       "      <td>360.0</td>\n",
       "      <td>0.0</td>\n",
       "      <td>3076</td>\n",
       "      <td>...</td>\n",
       "      <td>360.0</td>\n",
       "      <td>126.0</td>\n",
       "      <td>1</td>\n",
       "      <td>0</td>\n",
       "      <td>3076</td>\n",
       "      <td>1500</td>\n",
       "      <td>2</td>\n",
       "      <td>1</td>\n",
       "      <td>126.0</td>\n",
       "      <td>360.0</td>\n",
       "    </tr>\n",
       "  </tbody>\n",
       "</table>\n",
       "<p>2 rows × 53 columns</p>\n",
       "</div>"
      ],
      "text/plain": [
       "         Married  Education  ApplicantIncome  CoapplicantIncome  \\\n",
       "Loan_ID                                                           \n",
       "LP001015       1          0             5720                  0   \n",
       "LP001022       1          0             3076               1500   \n",
       "\n",
       "          Property_Area  Gender  LoanAmount  Loan_Amount_Term  Education  \\\n",
       "Loan_ID                                                                    \n",
       "LP001015              2       1       110.0             360.0        0.0   \n",
       "LP001022              2       1       126.0             360.0        0.0   \n",
       "\n",
       "          ApplicantIncome  ...  Loan_Amount_Term  LoanAmount Married  \\\n",
       "Loan_ID                    ...                                         \n",
       "LP001015             5720  ...             360.0       110.0       1   \n",
       "LP001022             3076  ...             360.0       126.0       1   \n",
       "\n",
       "          Education  ApplicantIncome  CoapplicantIncome  Property_Area  \\\n",
       "Loan_ID                                                                  \n",
       "LP001015          0             5720                  0              2   \n",
       "LP001022          0             3076               1500              2   \n",
       "\n",
       "          Credit_History  LoanAmount  Loan_Amount_Term  \n",
       "Loan_ID                                                 \n",
       "LP001015               1       110.0             360.0  \n",
       "LP001022               1       126.0             360.0  \n",
       "\n",
       "[2 rows x 53 columns]"
      ]
     },
     "execution_count": 1038,
     "metadata": {},
     "output_type": "execute_result"
    }
   ],
   "source": [
    "test_df.head(2)"
   ]
  },
  {
   "cell_type": "code",
   "execution_count": 1039,
   "id": "9f7537de",
   "metadata": {},
   "outputs": [
    {
     "name": "stdout",
     "output_type": "stream",
     "text": [
      "Solved shape: (614, 11) and original shape: (614, 11)\n",
      "Solved shape: (367, 11) and original shape: (367, 11)\n"
     ]
    }
   ],
   "source": [
    "import numpy as np\n",
    "from collections import Counter\n",
    "\n",
    "train_df = train_df.T.drop_duplicates().T\n",
    "test_df = test_df.T.drop_duplicates().T\n",
    "\n",
    "\n",
    "def solve_duplication(df, df_original):\n",
    "\n",
    "    repeated_cols = [col for col, value in Counter(df.columns).items() if value>1]\n",
    "\n",
    "\n",
    "    for col in repeated_cols:\n",
    "\n",
    "        t = df[col][df[col].values[:,0] != df[col].values[:,1]]\n",
    "        for index in t.index:\n",
    "\n",
    "            df.loc[index, col] = df.loc[index, col].values[0]\n",
    "\n",
    "    df = df.T.drop_duplicates().T\n",
    "\n",
    "    df[\"LoanAmount\"] = df_original[\"LoanAmount\"]\n",
    "    df[\"Loan_Amount_Term\"] = df_original[\"Loan_Amount_Term\"]\n",
    "    \n",
    "    print(\"Solved shape: {} and original shape: {}\".format(df.shape, df_original.shape))\n",
    "\n",
    "    assert df_original.shape == df.shape\n",
    "    \n",
    "    return df\n",
    "\n",
    "train_df = solve_duplication(train_df, train_data.drop(columns=[\"Loan_Status\"]))\n",
    "\n",
    "test_df = solve_duplication(test_df, test_data)"
   ]
  },
  {
   "cell_type": "code",
   "execution_count": 1040,
   "id": "2cb1a775",
   "metadata": {},
   "outputs": [
    {
     "data": {
      "text/plain": [
       "(Education             0\n",
       " ApplicantIncome       0\n",
       " CoapplicantIncome     0\n",
       " Property_Area         0\n",
       " Gender                0\n",
       " LoanAmount           22\n",
       " Loan_Amount_Term     14\n",
       " Married               0\n",
       " Dependents            0\n",
       " Self_Employed         0\n",
       " Credit_History        0\n",
       " dtype: int64,\n",
       " (614, 11))"
      ]
     },
     "execution_count": 1040,
     "metadata": {},
     "output_type": "execute_result"
    }
   ],
   "source": [
    "train_df.isna().sum(), train_df.shape"
   ]
  },
  {
   "cell_type": "code",
   "execution_count": 1041,
   "id": "4eefad60",
   "metadata": {},
   "outputs": [
    {
     "data": {
      "text/plain": [
       "(Married              0\n",
       " Education            0\n",
       " ApplicantIncome      0\n",
       " CoapplicantIncome    0\n",
       " Property_Area        0\n",
       " Gender               0\n",
       " LoanAmount           5\n",
       " Loan_Amount_Term     6\n",
       " Dependents           0\n",
       " Self_Employed        0\n",
       " Credit_History       0\n",
       " dtype: int64,\n",
       " (367, 11))"
      ]
     },
     "execution_count": 1041,
     "metadata": {},
     "output_type": "execute_result"
    }
   ],
   "source": [
    "test_df.isna().sum(), test_df.shape"
   ]
  },
  {
   "cell_type": "code",
   "execution_count": 1042,
   "id": "8d6c0a3f",
   "metadata": {},
   "outputs": [],
   "source": [
    "from sklearn.ensemble import RandomForestRegressor"
   ]
  },
  {
   "cell_type": "code",
   "execution_count": 1043,
   "id": "ed31d3cb",
   "metadata": {},
   "outputs": [],
   "source": [
    "def amount_miss_value_solving(train_df, col = \"LoanAmount\"):\n",
    "\n",
    "    temp_train_Amount = train_df[train_df.isna()[col]==False]\n",
    "    temp_test_Amount = train_df[train_df.isna()[col]==True]\n",
    "\n",
    "    X_train = temp_train_Amount.drop(columns=[\"LoanAmount\",\"Loan_Amount_Term\"])\n",
    "    y_train = temp_train_Amount[col]\n",
    "    \n",
    "    X_test = temp_test_Amount.drop(columns=[\"LoanAmount\",\"Loan_Amount_Term\"])\n",
    "\n",
    "    \n",
    "    return X_train,X_test,y_train\n",
    "\n",
    "\n",
    "X_train_A,X_test_A,y_train_A = amount_miss_value_solving(train_df, col = \"LoanAmount\")\n",
    "X_train_T,X_test_T,y_train_T = amount_miss_value_solving(train_df, col = \"Loan_Amount_Term\")\n",
    "\n",
    "cols_order_A = X_train_A.columns\n",
    "X_Test_train_A, X_Test_test_A, y_Test_train_A = amount_miss_value_solving(test_df, col = \"LoanAmount\")\n",
    "X_Test_train_A, X_Test_test_A = X_Test_train_A[cols_order_A], X_Test_test_A[cols_order_A]\n",
    "\n",
    "cols_order_T = X_train_T.columns\n",
    "X_Test_train_T, X_Test_test_T, y_Test_train_T = amount_miss_value_solving(test_df, col = \"Loan_Amount_Term\")\n",
    "X_Test_train_T, X_Test_test_T = X_Test_train_T[cols_order_T], X_Test_test_T[cols_order_T]"
   ]
  },
  {
   "cell_type": "code",
   "execution_count": 1044,
   "id": "0b0b6a36",
   "metadata": {},
   "outputs": [
    {
     "data": {
      "text/plain": [
       "((362, 9), (5, 9))"
      ]
     },
     "execution_count": 1044,
     "metadata": {},
     "output_type": "execute_result"
    }
   ],
   "source": [
    "X_Test_train_A.shape,X_Test_test_A.shape"
   ]
  },
  {
   "cell_type": "code",
   "execution_count": null,
   "id": "6d322b26",
   "metadata": {},
   "outputs": [],
   "source": []
  },
  {
   "cell_type": "code",
   "execution_count": 1045,
   "id": "650282dd",
   "metadata": {},
   "outputs": [],
   "source": [
    "def build_model(X_train_A,y_train_A):\n",
    "\n",
    "    model = RandomForestRegressor()\n",
    "\n",
    "    model_A = model.fit(X_train_A,y_train_A)\n",
    "    \n",
    "    return model_A\n",
    "\n",
    "model_A = build_model(X_train_A,y_train_A)\n",
    "model_T = build_model(X_train_T,y_train_T)"
   ]
  },
  {
   "cell_type": "code",
   "execution_count": 1046,
   "id": "340bb055",
   "metadata": {},
   "outputs": [
    {
     "data": {
      "text/plain": [
       "array([165.44 ,  76.665, 274.25 , 181.96 , 246.69 ])"
      ]
     },
     "execution_count": 1046,
     "metadata": {},
     "output_type": "execute_result"
    }
   ],
   "source": [
    "model_A.predict(X_Test_test_A)"
   ]
  },
  {
   "cell_type": "code",
   "execution_count": 1047,
   "id": "799b99d8",
   "metadata": {},
   "outputs": [],
   "source": [
    "X_test_A[\"LoanAmount\"] = model_A.predict(X_test_A)\n",
    "X_train_A[\"LoanAmount\"] = y_train_A\n",
    "X_train_A = pd.concat([X_train_A, X_test_A], axis=0)\n",
    "\n",
    "X_test_T[\"Loan_Amount_Term\"] = model_T.predict(X_test_T)\n",
    "X_train_T[\"Loan_Amount_Term\"] = y_train_T\n",
    "X_train_T = pd.concat([X_train_T, X_test_T], axis=0)\n",
    "\n",
    "\n",
    "X_Test_test_A[\"LoanAmount\"] = model_A.predict(X_Test_test_A)\n",
    "X_Test_train_A[\"LoanAmount\"] = y_Test_train_A\n",
    "X_Test_train_A = pd.concat([X_Test_train_A, X_Test_test_A], axis=0)\n",
    "\n",
    "X_Test_test_T[\"Loan_Amount_Term\"] = model_T.predict(X_Test_test_T)\n",
    "X_Test_train_T[\"Loan_Amount_Term\"] = y_Test_train_T\n",
    "X_Test_train_T = pd.concat([X_Test_train_T, X_Test_test_T], axis=0)\n",
    "\n",
    "\n",
    "#Final part\n",
    "\n",
    "X_train_A[\"Loan_Amount_Term\"] = round(X_train_T[\"Loan_Amount_Term\"])\n",
    "X_Test_train_A[\"Loan_Amount_Term\"] = round(X_Test_train_T[\"Loan_Amount_Term\"])\n",
    "\n",
    "assert X_train_A.shape == train_df.shape\n",
    "assert X_Test_train_A.shape == test_df.shape\n",
    "\n"
   ]
  },
  {
   "cell_type": "code",
   "execution_count": 1063,
   "id": "5fc0219c",
   "metadata": {},
   "outputs": [],
   "source": [
    "X_train_A[\"Loan_Status\"] = binary_encoding(train_data[\"Loan_Status\"])\n",
    "\n",
    "train_data_treated = X_train_A.copy()\n",
    "test_data_traited = X_Test_train_A.copy()"
   ]
  },
  {
   "cell_type": "code",
   "execution_count": 1064,
   "id": "5eca3738",
   "metadata": {},
   "outputs": [
    {
     "data": {
      "text/html": [
       "<div>\n",
       "<style scoped>\n",
       "    .dataframe tbody tr th:only-of-type {\n",
       "        vertical-align: middle;\n",
       "    }\n",
       "\n",
       "    .dataframe tbody tr th {\n",
       "        vertical-align: top;\n",
       "    }\n",
       "\n",
       "    .dataframe thead th {\n",
       "        text-align: right;\n",
       "    }\n",
       "</style>\n",
       "<table border=\"1\" class=\"dataframe\">\n",
       "  <thead>\n",
       "    <tr style=\"text-align: right;\">\n",
       "      <th></th>\n",
       "      <th>Education</th>\n",
       "      <th>ApplicantIncome</th>\n",
       "      <th>CoapplicantIncome</th>\n",
       "      <th>Property_Area</th>\n",
       "      <th>Gender</th>\n",
       "      <th>Married</th>\n",
       "      <th>Dependents</th>\n",
       "      <th>Self_Employed</th>\n",
       "      <th>Credit_History</th>\n",
       "      <th>LoanAmount</th>\n",
       "      <th>Loan_Amount_Term</th>\n",
       "      <th>Loan_Status</th>\n",
       "    </tr>\n",
       "    <tr>\n",
       "      <th>Loan_ID</th>\n",
       "      <th></th>\n",
       "      <th></th>\n",
       "      <th></th>\n",
       "      <th></th>\n",
       "      <th></th>\n",
       "      <th></th>\n",
       "      <th></th>\n",
       "      <th></th>\n",
       "      <th></th>\n",
       "      <th></th>\n",
       "      <th></th>\n",
       "      <th></th>\n",
       "    </tr>\n",
       "  </thead>\n",
       "  <tbody>\n",
       "    <tr>\n",
       "      <th>LP001003</th>\n",
       "      <td>0.0</td>\n",
       "      <td>4583.0</td>\n",
       "      <td>1508.0</td>\n",
       "      <td>0.0</td>\n",
       "      <td>1.0</td>\n",
       "      <td>1.0</td>\n",
       "      <td>1.0</td>\n",
       "      <td>0.0</td>\n",
       "      <td>1.0</td>\n",
       "      <td>128.0</td>\n",
       "      <td>360.0</td>\n",
       "      <td>1</td>\n",
       "    </tr>\n",
       "    <tr>\n",
       "      <th>LP001005</th>\n",
       "      <td>0.0</td>\n",
       "      <td>3000.0</td>\n",
       "      <td>0.0</td>\n",
       "      <td>2.0</td>\n",
       "      <td>1.0</td>\n",
       "      <td>1.0</td>\n",
       "      <td>0.0</td>\n",
       "      <td>1.0</td>\n",
       "      <td>1.0</td>\n",
       "      <td>66.0</td>\n",
       "      <td>360.0</td>\n",
       "      <td>0</td>\n",
       "    </tr>\n",
       "    <tr>\n",
       "      <th>LP001006</th>\n",
       "      <td>1.0</td>\n",
       "      <td>2583.0</td>\n",
       "      <td>2358.0</td>\n",
       "      <td>2.0</td>\n",
       "      <td>1.0</td>\n",
       "      <td>1.0</td>\n",
       "      <td>0.0</td>\n",
       "      <td>0.0</td>\n",
       "      <td>1.0</td>\n",
       "      <td>120.0</td>\n",
       "      <td>360.0</td>\n",
       "      <td>1</td>\n",
       "    </tr>\n",
       "    <tr>\n",
       "      <th>LP001008</th>\n",
       "      <td>0.0</td>\n",
       "      <td>6000.0</td>\n",
       "      <td>0.0</td>\n",
       "      <td>2.0</td>\n",
       "      <td>1.0</td>\n",
       "      <td>0.0</td>\n",
       "      <td>0.0</td>\n",
       "      <td>0.0</td>\n",
       "      <td>1.0</td>\n",
       "      <td>141.0</td>\n",
       "      <td>360.0</td>\n",
       "      <td>1</td>\n",
       "    </tr>\n",
       "    <tr>\n",
       "      <th>LP001011</th>\n",
       "      <td>0.0</td>\n",
       "      <td>5417.0</td>\n",
       "      <td>4196.0</td>\n",
       "      <td>2.0</td>\n",
       "      <td>1.0</td>\n",
       "      <td>1.0</td>\n",
       "      <td>2.0</td>\n",
       "      <td>1.0</td>\n",
       "      <td>1.0</td>\n",
       "      <td>267.0</td>\n",
       "      <td>360.0</td>\n",
       "      <td>1</td>\n",
       "    </tr>\n",
       "  </tbody>\n",
       "</table>\n",
       "</div>"
      ],
      "text/plain": [
       "          Education  ApplicantIncome  CoapplicantIncome  Property_Area  \\\n",
       "Loan_ID                                                                  \n",
       "LP001003        0.0           4583.0             1508.0            0.0   \n",
       "LP001005        0.0           3000.0                0.0            2.0   \n",
       "LP001006        1.0           2583.0             2358.0            2.0   \n",
       "LP001008        0.0           6000.0                0.0            2.0   \n",
       "LP001011        0.0           5417.0             4196.0            2.0   \n",
       "\n",
       "          Gender  Married  Dependents  Self_Employed  Credit_History  \\\n",
       "Loan_ID                                                                \n",
       "LP001003     1.0      1.0         1.0            0.0             1.0   \n",
       "LP001005     1.0      1.0         0.0            1.0             1.0   \n",
       "LP001006     1.0      1.0         0.0            0.0             1.0   \n",
       "LP001008     1.0      0.0         0.0            0.0             1.0   \n",
       "LP001011     1.0      1.0         2.0            1.0             1.0   \n",
       "\n",
       "          LoanAmount  Loan_Amount_Term  Loan_Status  \n",
       "Loan_ID                                              \n",
       "LP001003       128.0             360.0            1  \n",
       "LP001005        66.0             360.0            0  \n",
       "LP001006       120.0             360.0            1  \n",
       "LP001008       141.0             360.0            1  \n",
       "LP001011       267.0             360.0            1  "
      ]
     },
     "execution_count": 1064,
     "metadata": {},
     "output_type": "execute_result"
    }
   ],
   "source": [
    "train_data_treated.head()"
   ]
  },
  {
   "cell_type": "code",
   "execution_count": 1065,
   "id": "ab1f716c",
   "metadata": {},
   "outputs": [
    {
     "data": {
      "text/plain": [
       "Counter({1: 422, 0: 192})"
      ]
     },
     "execution_count": 1065,
     "metadata": {},
     "output_type": "execute_result"
    }
   ],
   "source": [
    "Counter(train_data_treated.Loan_Status)"
   ]
  },
  {
   "cell_type": "markdown",
   "id": "4bb7b121",
   "metadata": {},
   "source": [
    "# Modelisation"
   ]
  },
  {
   "cell_type": "code",
   "execution_count": 1088,
   "id": "43dc6440",
   "metadata": {},
   "outputs": [],
   "source": [
    "from sklearn.model_selection import train_test_split"
   ]
  },
  {
   "cell_type": "code",
   "execution_count": 1089,
   "id": "b78c6844",
   "metadata": {},
   "outputs": [],
   "source": [
    "X,y = train_data_treated.iloc[:,:-1],train_data_treated.iloc[:,-1]"
   ]
  },
  {
   "cell_type": "code",
   "execution_count": 1090,
   "id": "dabfa7eb",
   "metadata": {},
   "outputs": [],
   "source": [
    "X_train,X_test,y_train,y_test = train_test_split(X,y,test_size=0.1)"
   ]
  },
  {
   "cell_type": "code",
   "execution_count": 1091,
   "id": "45b8d924",
   "metadata": {},
   "outputs": [
    {
     "data": {
      "text/plain": [
       "Counter({0: 17, 1: 45})"
      ]
     },
     "execution_count": 1091,
     "metadata": {},
     "output_type": "execute_result"
    }
   ],
   "source": [
    "Counter(y_test)"
   ]
  },
  {
   "cell_type": "code",
   "execution_count": 1110,
   "id": "f39815ce",
   "metadata": {},
   "outputs": [
    {
     "data": {
      "text/plain": [
       "1    377\n",
       "0    377\n",
       "Name: Loan_Status, dtype: int64"
      ]
     },
     "execution_count": 1110,
     "metadata": {},
     "output_type": "execute_result"
    }
   ],
   "source": [
    "balancer = SMOTE()\n",
    "X_train_b,y_train_b = balancer.fit_resample(X_train,y_train)\n",
    "ytrain_b.value_counts()"
   ]
  },
  {
   "cell_type": "code",
   "execution_count": 1111,
   "id": "265bdfd1",
   "metadata": {},
   "outputs": [
    {
     "data": {
      "text/html": [
       "<style>#sk-container-id-7 {color: black;}#sk-container-id-7 pre{padding: 0;}#sk-container-id-7 div.sk-toggleable {background-color: white;}#sk-container-id-7 label.sk-toggleable__label {cursor: pointer;display: block;width: 100%;margin-bottom: 0;padding: 0.3em;box-sizing: border-box;text-align: center;}#sk-container-id-7 label.sk-toggleable__label-arrow:before {content: \"▸\";float: left;margin-right: 0.25em;color: #696969;}#sk-container-id-7 label.sk-toggleable__label-arrow:hover:before {color: black;}#sk-container-id-7 div.sk-estimator:hover label.sk-toggleable__label-arrow:before {color: black;}#sk-container-id-7 div.sk-toggleable__content {max-height: 0;max-width: 0;overflow: hidden;text-align: left;background-color: #f0f8ff;}#sk-container-id-7 div.sk-toggleable__content pre {margin: 0.2em;color: black;border-radius: 0.25em;background-color: #f0f8ff;}#sk-container-id-7 input.sk-toggleable__control:checked~div.sk-toggleable__content {max-height: 200px;max-width: 100%;overflow: auto;}#sk-container-id-7 input.sk-toggleable__control:checked~label.sk-toggleable__label-arrow:before {content: \"▾\";}#sk-container-id-7 div.sk-estimator input.sk-toggleable__control:checked~label.sk-toggleable__label {background-color: #d4ebff;}#sk-container-id-7 div.sk-label input.sk-toggleable__control:checked~label.sk-toggleable__label {background-color: #d4ebff;}#sk-container-id-7 input.sk-hidden--visually {border: 0;clip: rect(1px 1px 1px 1px);clip: rect(1px, 1px, 1px, 1px);height: 1px;margin: -1px;overflow: hidden;padding: 0;position: absolute;width: 1px;}#sk-container-id-7 div.sk-estimator {font-family: monospace;background-color: #f0f8ff;border: 1px dotted black;border-radius: 0.25em;box-sizing: border-box;margin-bottom: 0.5em;}#sk-container-id-7 div.sk-estimator:hover {background-color: #d4ebff;}#sk-container-id-7 div.sk-parallel-item::after {content: \"\";width: 100%;border-bottom: 1px solid gray;flex-grow: 1;}#sk-container-id-7 div.sk-label:hover label.sk-toggleable__label {background-color: #d4ebff;}#sk-container-id-7 div.sk-serial::before {content: \"\";position: absolute;border-left: 1px solid gray;box-sizing: border-box;top: 0;bottom: 0;left: 50%;z-index: 0;}#sk-container-id-7 div.sk-serial {display: flex;flex-direction: column;align-items: center;background-color: white;padding-right: 0.2em;padding-left: 0.2em;position: relative;}#sk-container-id-7 div.sk-item {position: relative;z-index: 1;}#sk-container-id-7 div.sk-parallel {display: flex;align-items: stretch;justify-content: center;background-color: white;position: relative;}#sk-container-id-7 div.sk-item::before, #sk-container-id-7 div.sk-parallel-item::before {content: \"\";position: absolute;border-left: 1px solid gray;box-sizing: border-box;top: 0;bottom: 0;left: 50%;z-index: -1;}#sk-container-id-7 div.sk-parallel-item {display: flex;flex-direction: column;z-index: 1;position: relative;background-color: white;}#sk-container-id-7 div.sk-parallel-item:first-child::after {align-self: flex-end;width: 50%;}#sk-container-id-7 div.sk-parallel-item:last-child::after {align-self: flex-start;width: 50%;}#sk-container-id-7 div.sk-parallel-item:only-child::after {width: 0;}#sk-container-id-7 div.sk-dashed-wrapped {border: 1px dashed gray;margin: 0 0.4em 0.5em 0.4em;box-sizing: border-box;padding-bottom: 0.4em;background-color: white;}#sk-container-id-7 div.sk-label label {font-family: monospace;font-weight: bold;display: inline-block;line-height: 1.2em;}#sk-container-id-7 div.sk-label-container {text-align: center;}#sk-container-id-7 div.sk-container {/* jupyter's `normalize.less` sets `[hidden] { display: none; }` but bootstrap.min.css set `[hidden] { display: none !important; }` so we also need the `!important` here to be able to override the default hidden behavior on the sphinx rendered scikit-learn.org. See: https://github.com/scikit-learn/scikit-learn/issues/21755 */display: inline-block !important;position: relative;}#sk-container-id-7 div.sk-text-repr-fallback {display: none;}</style><div id=\"sk-container-id-7\" class=\"sk-top-container\"><div class=\"sk-text-repr-fallback\"><pre>GridSearchCV(cv=15, estimator=RandomForestClassifier(random_state=100),\n",
       "             n_jobs=-1,\n",
       "             param_grid={&#x27;max_depth&#x27;: [None, 1, 2, 3],\n",
       "                         &#x27;min_samples_leaf&#x27;: [1, 2, 4],\n",
       "                         &#x27;min_samples_split&#x27;: [2, 5, 10, 50, 100],\n",
       "                         &#x27;n_estimators&#x27;: [10, 20, 50, 100]},\n",
       "             scoring=&#x27;recall&#x27;)</pre><b>In a Jupyter environment, please rerun this cell to show the HTML representation or trust the notebook. <br />On GitHub, the HTML representation is unable to render, please try loading this page with nbviewer.org.</b></div><div class=\"sk-container\" hidden><div class=\"sk-item sk-dashed-wrapped\"><div class=\"sk-label-container\"><div class=\"sk-label sk-toggleable\"><input class=\"sk-toggleable__control sk-hidden--visually\" id=\"sk-estimator-id-17\" type=\"checkbox\" ><label for=\"sk-estimator-id-17\" class=\"sk-toggleable__label sk-toggleable__label-arrow\">GridSearchCV</label><div class=\"sk-toggleable__content\"><pre>GridSearchCV(cv=15, estimator=RandomForestClassifier(random_state=100),\n",
       "             n_jobs=-1,\n",
       "             param_grid={&#x27;max_depth&#x27;: [None, 1, 2, 3],\n",
       "                         &#x27;min_samples_leaf&#x27;: [1, 2, 4],\n",
       "                         &#x27;min_samples_split&#x27;: [2, 5, 10, 50, 100],\n",
       "                         &#x27;n_estimators&#x27;: [10, 20, 50, 100]},\n",
       "             scoring=&#x27;recall&#x27;)</pre></div></div></div><div class=\"sk-parallel\"><div class=\"sk-parallel-item\"><div class=\"sk-item\"><div class=\"sk-label-container\"><div class=\"sk-label sk-toggleable\"><input class=\"sk-toggleable__control sk-hidden--visually\" id=\"sk-estimator-id-18\" type=\"checkbox\" ><label for=\"sk-estimator-id-18\" class=\"sk-toggleable__label sk-toggleable__label-arrow\">estimator: RandomForestClassifier</label><div class=\"sk-toggleable__content\"><pre>RandomForestClassifier(random_state=100)</pre></div></div></div><div class=\"sk-serial\"><div class=\"sk-item\"><div class=\"sk-estimator sk-toggleable\"><input class=\"sk-toggleable__control sk-hidden--visually\" id=\"sk-estimator-id-19\" type=\"checkbox\" ><label for=\"sk-estimator-id-19\" class=\"sk-toggleable__label sk-toggleable__label-arrow\">RandomForestClassifier</label><div class=\"sk-toggleable__content\"><pre>RandomForestClassifier(random_state=100)</pre></div></div></div></div></div></div></div></div></div></div>"
      ],
      "text/plain": [
       "GridSearchCV(cv=15, estimator=RandomForestClassifier(random_state=100),\n",
       "             n_jobs=-1,\n",
       "             param_grid={'max_depth': [None, 1, 2, 3],\n",
       "                         'min_samples_leaf': [1, 2, 4],\n",
       "                         'min_samples_split': [2, 5, 10, 50, 100],\n",
       "                         'n_estimators': [10, 20, 50, 100]},\n",
       "             scoring='recall')"
      ]
     },
     "execution_count": 1111,
     "metadata": {},
     "output_type": "execute_result"
    }
   ],
   "source": [
    "rf_parameter = {\n",
    "                'n_estimators': [10, 20, 50, 100],\n",
    "                'max_depth': [None, 1, 2, 3],\n",
    "                'min_samples_split': [2, 5, 10, 50, 100],\n",
    "                'min_samples_leaf': [1, 2, 4]\n",
    "                }\n",
    "\n",
    "model = RandomForestClassifier(random_state=100)\n",
    "\n",
    "best_model = GridSearchCV(estimator=model, param_grid=rf_parameter, cv=15, scoring='recall',n_jobs=-1)\n",
    "\n",
    "best_model.fit(X_train_b,y_train_b)"
   ]
  },
  {
   "cell_type": "code",
   "execution_count": 1112,
   "id": "0962a34a",
   "metadata": {},
   "outputs": [
    {
     "name": "stdout",
     "output_type": "stream",
     "text": [
      "              precision    recall  f1-score   support\n",
      "\n",
      "           0       0.77      0.33      0.46       175\n",
      "           1       0.75      0.95      0.84       377\n",
      "\n",
      "    accuracy                           0.76       552\n",
      "   macro avg       0.76      0.64      0.65       552\n",
      "weighted avg       0.76      0.76      0.72       552\n",
      "\n"
     ]
    },
    {
     "data": {
      "image/png": "[encoded data removed]",
      "text/plain": [
       "<Figure size 640x480 with 2 Axes>"
      ]
     },
     "metadata": {},
     "output_type": "display_data"
    }
   ],
   "source": [
    "evaluate_model(best_model,X_train,y_train)"
   ]
  },
  {
   "cell_type": "code",
   "execution_count": 1113,
   "id": "dc30c7a6",
   "metadata": {},
   "outputs": [
    {
     "name": "stdout",
     "output_type": "stream",
     "text": [
      "              precision    recall  f1-score   support\n",
      "\n",
      "           0       0.25      0.06      0.10        17\n",
      "           1       0.72      0.93      0.82        45\n",
      "\n",
      "    accuracy                           0.69        62\n",
      "   macro avg       0.49      0.50      0.46        62\n",
      "weighted avg       0.59      0.69      0.62        62\n",
      "\n"
     ]
    },
    {
     "data": {
      "image/png": "[encoded data removed]",
      "text/plain": [
       "<Figure size 640x480 with 2 Axes>"
      ]
     },
     "metadata": {},
     "output_type": "display_data"
    }
   ],
   "source": [
    "evaluate_model(best_model,X_test,y_test)"
   ]
  },
  {
   "cell_type": "code",
   "execution_count": null,
   "id": "ff160228",
   "metadata": {},
   "outputs": [],
   "source": []
  }
 ],
 "metadata": {
  "kernelspec": {
   "display_name": "Python 3 (ipykernel)",
   "language": "python",
   "name": "python3"
  },
  "language_info": {
   "codemirror_mode": {
    "name": "ipython",
    "version": 3
   },
   "file_extension": ".py",
   "mimetype": "text/x-python",
   "name": "python",
   "nbconvert_exporter": "python",
   "pygments_lexer": "ipython3",
   "version": "3.10.12"
  }
 },
 "nbformat": 4,
 "nbformat_minor": 5
}
